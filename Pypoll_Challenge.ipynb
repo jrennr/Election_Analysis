{
 "cells": [
  {
   "cell_type": "code",
   "execution_count": 1,
   "id": "0079c28c",
   "metadata": {},
   "outputs": [
    {
     "data": {
      "text/plain": [
       "'PyPoll Challenge'"
      ]
     },
     "execution_count": 1,
     "metadata": {},
     "output_type": "execute_result"
    }
   ],
   "source": [
    "# -*- coding: UTF-8 -*-\n",
    "\n",
    "\"\"\"PyPoll Challenge\"\"\"\n",
    "\n"
   ]
  },
  {
   "cell_type": "code",
   "execution_count": 2,
   "id": "6317dad6",
   "metadata": {},
   "outputs": [],
   "source": [
    "import csv\n",
    "import os\n"
   ]
  },
  {
   "cell_type": "code",
   "execution_count": 3,
   "id": "3b50ebd1",
   "metadata": {},
   "outputs": [],
   "source": [
    "# Add our dependencies.# Add a variable to load a file from a path.\n",
    "file_to_load = os.path.join(\"Resources\", \"election_results.csv\")\n"
   ]
  },
  {
   "cell_type": "code",
   "execution_count": 4,
   "id": "0e4618d3",
   "metadata": {},
   "outputs": [],
   "source": [
    "# Add a variable to load a file from a path.\n",
    "file_to_load = os.path.join(\"Resources\", \"election_results.csv\")\n"
   ]
  },
  {
   "cell_type": "code",
   "execution_count": 5,
   "id": "f88c09d9",
   "metadata": {},
   "outputs": [],
   "source": [
    "# Add a variable to save the file to a path.\n",
    "file_to_save = os.path.join(\"analysis\", \"election_analysis.txt\")\n"
   ]
  },
  {
   "cell_type": "code",
   "execution_count": 6,
   "id": "0e63e35f",
   "metadata": {},
   "outputs": [],
   "source": [
    "# Initialize a total vote counter.\n",
    "total_votes = 0\n"
   ]
  },
  {
   "cell_type": "code",
   "execution_count": 7,
   "id": "95389de2",
   "metadata": {},
   "outputs": [],
   "source": [
    "# Candidate Options and candidate votes.\n",
    "candidate_options = []\n",
    "candidate_votes = {}\n"
   ]
  },
  {
   "cell_type": "code",
   "execution_count": 8,
   "id": "f8d3ba15",
   "metadata": {},
   "outputs": [],
   "source": [
    "# 1: Create a county list and county votes dictionary.\n",
    "county_list = []\n",
    "county_votes = {}\n"
   ]
  },
  {
   "cell_type": "code",
   "execution_count": 9,
   "id": "abb7b008",
   "metadata": {},
   "outputs": [],
   "source": [
    "# Track the winning candidate, vote count, and percentage\n",
    "winning_candidate = \"\"\n",
    "winning_count = 0\n",
    "winning_percentage = 0\n"
   ]
  },
  {
   "cell_type": "code",
   "execution_count": 10,
   "id": "3abbb66a",
   "metadata": {},
   "outputs": [],
   "source": [
    "# 2: Track the largest county and county voter turnout.\n",
    "largest_turnout = \"\"\n",
    "largest_turnout_votes = 0\n"
   ]
  },
  {
   "cell_type": "code",
   "execution_count": 11,
   "id": "392b6568",
   "metadata": {
    "scrolled": true
   },
   "outputs": [],
   "source": [
    "# Read the csv and convert it into a list of dictionaries\n",
    "with open(\"C:\\\\Users\\\\Columbia bootcamp\\\\Election_Analysis\\\\Starter_Code\\\\Resources\\\\election_results.csv\") as election_data: \n",
    "   reader = csv.reader(election_data)"
   ]
  },
  {
   "cell_type": "code",
   "execution_count": 12,
   "id": "5a5668e7",
   "metadata": {},
   "outputs": [],
   "source": [
    "# Read the header\n",
    "#header = next(reader)\n"
   ]
  },
  {
   "cell_type": "code",
   "execution_count": 13,
   "id": "e81b4e96",
   "metadata": {},
   "outputs": [
    {
     "ename": "FileNotFoundError",
     "evalue": "[Errno 2] No such file or directory: 'Resources\\\\election_results.csv'",
     "output_type": "error",
     "traceback": [
      "\u001b[1;31m---------------------------------------------------------------------------\u001b[0m",
      "\u001b[1;31mFileNotFoundError\u001b[0m                         Traceback (most recent call last)",
      "\u001b[1;32m~\\AppData\\Local\\Temp\\ipykernel_12760\\1091504261.py\u001b[0m in \u001b[0;36m<module>\u001b[1;34m\u001b[0m\n\u001b[0;32m      1\u001b[0m \u001b[1;31m# Add a variable to load a file from a path.\u001b[0m\u001b[1;33m\u001b[0m\u001b[1;33m\u001b[0m\u001b[1;33m\u001b[0m\u001b[0m\n\u001b[0;32m      2\u001b[0m \u001b[1;31m# file_to_load = os.path.join(\"Resources\", \"election_results.csv\")\u001b[0m\u001b[1;33m\u001b[0m\u001b[1;33m\u001b[0m\u001b[1;33m\u001b[0m\u001b[0m\n\u001b[1;32m----> 3\u001b[1;33m \u001b[1;32mwith\u001b[0m \u001b[0mopen\u001b[0m\u001b[1;33m(\u001b[0m\u001b[0mfile_to_load\u001b[0m\u001b[1;33m)\u001b[0m \u001b[1;32mas\u001b[0m \u001b[0melection_data\u001b[0m\u001b[1;33m:\u001b[0m\u001b[1;33m\u001b[0m\u001b[1;33m\u001b[0m\u001b[0m\n\u001b[0m\u001b[0;32m      4\u001b[0m     \u001b[0mreader\u001b[0m \u001b[1;33m=\u001b[0m \u001b[0mcsv\u001b[0m\u001b[1;33m.\u001b[0m\u001b[0mreader\u001b[0m\u001b[1;33m(\u001b[0m\u001b[0melection_data\u001b[0m\u001b[1;33m)\u001b[0m\u001b[1;33m\u001b[0m\u001b[1;33m\u001b[0m\u001b[0m\n\u001b[0;32m      5\u001b[0m \u001b[0mheader\u001b[0m \u001b[1;33m=\u001b[0m \u001b[0mnext\u001b[0m\u001b[1;33m(\u001b[0m\u001b[0mreader\u001b[0m\u001b[1;33m)\u001b[0m\u001b[1;33m\u001b[0m\u001b[1;33m\u001b[0m\u001b[0m\n",
      "\u001b[1;31mFileNotFoundError\u001b[0m: [Errno 2] No such file or directory: 'Resources\\\\election_results.csv'"
     ]
    }
   ],
   "source": [
    "# Add a variable to load a file from a path.\n",
    "# file_to_load = os.path.join(\"Resources\", \"election_results.csv\")\n",
    "with open(file_to_load) as election_data:\n",
    "    reader = csv.reader(election_data)\n",
    "header = next(reader)\n",
    "\n",
    "# Read the csv and convert it into a list of dictionaries\n",
    "with open(\"C:\\\\Users\\\\Columbia bootcamp\\\\Election_Analysis\\\\Starter_Code\\\\Resources\\\\election_results.csv\") as election_data:\n",
    "    reader = csv.reader(election_data)\n",
    "\n",
    "    # Iterate through each row in the CSV file.\n",
    "    for row in reader:\n",
    "        candidate_name = row[0]  \n",
    "        votes = int(row[1])  \n"
   ]
  },
  {
   "cell_type": "code",
   "execution_count": null,
   "id": "0ec780fe",
   "metadata": {},
   "outputs": [],
   "source": [
    "# Add to the total vote count\n",
    "total_votes = total_votes + 1\n"
   ]
  },
  {
   "cell_type": "code",
   "execution_count": null,
   "id": "9e616cd9",
   "metadata": {},
   "outputs": [],
   "source": [
    "# Get the candidate name from each row.\n",
    "candidate_name = row[2]\n"
   ]
  },
  {
   "cell_type": "code",
   "execution_count": null,
   "id": "28af3ad2",
   "metadata": {},
   "outputs": [],
   "source": [
    "# 3: Extract the county name from each row.\n",
    "county_name = row[1]\n"
   ]
  },
  {
   "cell_type": "code",
   "execution_count": null,
   "id": "271299d8",
   "metadata": {},
   "outputs": [],
   "source": [
    "# If the candidate does not match any existing candidate, add it to\n",
    "# the candidate list and begin tracking that candidate's voter count.\n",
    "if candidate_name not in candidate_options:\n",
    " candidate_options.append(candidate_name)\n",
    "candidate_votes[candidate_name] = 0\n"
   ]
  },
  {
   "cell_type": "code",
   "execution_count": null,
   "id": "49d03130",
   "metadata": {},
   "outputs": [],
   "source": [
    "# Add a vote to that candidate's count\n",
    "candidate_votes[candidate_name] += 1\n"
   ]
  },
  {
   "cell_type": "code",
   "execution_count": null,
   "id": "3475b0dc",
   "metadata": {},
   "outputs": [],
   "source": [
    "# 4a: Write an if statement that checks if the\n",
    "# county does not match any existing county in the county list.\n",
    "if county_name not in county_list:\n"
   ]
  },
  {
   "cell_type": "code",
   "execution_count": null,
   "id": "a2bff76b",
   "metadata": {},
   "outputs": [],
   "source": [
    "# 4b: Add the existing county to the list of counties.\n",
    "county_list.append(county_name)\n",
    "\n"
   ]
  },
  {
   "cell_type": "code",
   "execution_count": null,
   "id": "338d54e2",
   "metadata": {},
   "outputs": [],
   "source": [
    "# 4c: Begin tracking the county's vote count.\n",
    "county_votes[county_name] = 0"
   ]
  },
  {
   "cell_type": "code",
   "execution_count": null,
   "id": "5de24f97",
   "metadata": {},
   "outputs": [],
   "source": [
    "# 5: Add a vote to that county's vote count.\n",
    "county_votes[county_name] += 1\n"
   ]
  },
  {
   "cell_type": "code",
   "execution_count": null,
   "id": "aaa42ccb",
   "metadata": {},
   "outputs": [],
   "source": [
    "# Save the results to our text file.\n",
    "with open(file_to_save, \"w\") as txt_file:\n"
   ]
  },
  {
   "cell_type": "code",
   "execution_count": null,
   "id": "ea8db4e6",
   "metadata": {
    "scrolled": true
   },
   "outputs": [],
   "source": [
    "# Print the final vote count (to terminal)\n",
    "    election_results = (\n",
    "        f\"\\nElection Results\\n\"\n",
    "        f\"-------------------------\\n\"\n",
    "        f\"Total Votes: {total_votes:,}\\n\"\n",
    "        f\"-------------------------\\n\\n\"\n",
    "        f\"County Votes:\\n\"\n",
    "    )\n",
    "    print(election_results, end=\"\")\n",
    "    txt_file.write(election_results)\n"
   ]
  },
  {
   "cell_type": "code",
   "execution_count": null,
   "id": "90543aaf",
   "metadata": {},
   "outputs": [],
   "source": [
    "# 6a: Write a for loop to get the county from the county dictionary.\n",
    "for county_name in county_votes:\n"
   ]
  },
  {
   "cell_type": "code",
   "execution_count": null,
   "id": "de8876ec",
   "metadata": {},
   "outputs": [],
   "source": [
    "# 6b: Retrieve the county vote count.\n",
    "county_count = county_votes[county_name]\n"
   ]
  },
  {
   "cell_type": "code",
   "execution_count": null,
   "id": "d788db12",
   "metadata": {},
   "outputs": [],
   "source": [
    "# 6c: Calculate the percentage of votes for the county.\n",
    "county_percentage = float(county_count) / float(total_votes) * 100\n"
   ]
  },
  {
   "cell_type": "code",
   "execution_count": null,
   "id": "7b4d614c",
   "metadata": {},
   "outputs": [],
   "source": [
    "# 6d: Print the county results to the terminal.\n",
    "county_results = f\"{county_name}: {county_percentage:.1f}% ({county_count:,})\\n\"\n",
    "print(county_results, end=\"\")\n"
   ]
  },
  {
   "cell_type": "code",
   "execution_count": null,
   "id": "4ff84116",
   "metadata": {},
   "outputs": [],
   "source": [
    "# 6e: Save the county votes to a text file.\n",
    "txt_file.write(county_results)\n"
   ]
  },
  {
   "cell_type": "code",
   "execution_count": null,
   "id": "948f3c63",
   "metadata": {},
   "outputs": [],
   "source": [
    "# 6f: Write an if statement to determine the winning county and get its vote count.\n",
    "if county_count > largest_turnout_votes:\n",
    "largest_turnout_votes = county_count\n",
    "largest_turnout = county_name\n"
   ]
  },
  {
   "cell_type": "code",
   "execution_count": null,
   "id": "89fcdf8c",
   "metadata": {},
   "outputs": [],
   "source": [
    "    # 7: Print the county with the largest turnout to the terminal.\n",
    "    largest_turnout_summary = (\n",
    "        f\"-------------------------\\n\"\n",
    "        f\"Largest County Turnout: {largest_turnout}\\n\"\n",
    "        f\"-------------------------\\n\"\n",
    "    )\n",
    "    print(largest_turnout_summary)\n"
   ]
  },
  {
   "cell_type": "code",
   "execution_count": null,
   "id": "15ddd4dd",
   "metadata": {},
   "outputs": [],
   "source": [
    "# 8: Save the county with the largest turnout to a text file.\n",
    "txt_file.write(largest_turnout_summary)"
   ]
  },
  {
   "cell_type": "code",
   "execution_count": null,
   "id": "445aa69c",
   "metadata": {},
   "outputs": [],
   "source": [
    "# Save the final candidate vote count to the text file.\n",
    "for candidate_name in candidate_votes:\n",
    "# Retrieve vote count and percentage\n",
    "votes = candidate_votes[candidate_name]\n",
    "vote_percentage = float(votes) / float(total_votes) * 100\n",
    "candidate_results = f\"{candidate_name}: {vote_percentage:.1f}% ({votes:,})\\n\""
   ]
  },
  {
   "cell_type": "code",
   "execution_count": null,
   "id": "16f714d2",
   "metadata": {},
   "outputs": [],
   "source": [
    "# Print each candidate's voter count and percentage to the terminal.\n",
    "print(candidate_results, end=\"\")"
   ]
  },
  {
   "cell_type": "code",
   "execution_count": null,
   "id": "6ea7333c",
   "metadata": {},
   "outputs": [],
   "source": [
    "# Save the candidate results to our text file.\n",
    "txt_file.write(candidate_results)"
   ]
  },
  {
   "cell_type": "code",
   "execution_count": null,
   "id": "dacaa192",
   "metadata": {},
   "outputs": [],
   "source": [
    "# Determine winning vote count, winning percentage, and candidate.\n",
    "if votes > winning_count and vote_percentage > winning_percentage:\n",
    "winning_count = votes\n",
    "winning_candidate = candidate_name\n",
    "winning_percentage = vote_percentage"
   ]
  },
  {
   "cell_type": "code",
   "execution_count": null,
   "id": "9675a293",
   "metadata": {},
   "outputs": [],
   "source": [
    "# Print the winning candidate (to terminal)\n",
    "winning_candidate_summary = (\n",
    "        f\"-------------------------\\n\"\n",
    "        f\"Winner: {winning_candidate}\\n\"\n",
    "        f\"Winning Vote Count: {winning_count:,}\\n\"\n",
    "        f\"Winning Percentage: {winning_percentage:.1f}%\\n\"\n",
    "        f\"-------------------------\\n\"\n",
    "    )"
   ]
  },
  {
   "cell_type": "code",
   "execution_count": null,
   "id": "8ecd0a6e",
   "metadata": {},
   "outputs": [],
   "source": [
    "print(winning_candidate_summary)\n",
    "# Save the winning candidate's name to the text file\n",
    "txt_file.write(winning_candidate_summary)"
   ]
  },
  {
   "cell_type": "code",
   "execution_count": null,
   "id": "680e5038",
   "metadata": {},
   "outputs": [],
   "source": []
  },
  {
   "cell_type": "code",
   "execution_count": null,
   "id": "3cd18335",
   "metadata": {},
   "outputs": [],
   "source": []
  },
  {
   "cell_type": "code",
   "execution_count": null,
   "id": "5344417e",
   "metadata": {},
   "outputs": [],
   "source": []
  },
  {
   "cell_type": "code",
   "execution_count": null,
   "id": "0aa0dc48",
   "metadata": {},
   "outputs": [],
   "source": []
  }
 ],
 "metadata": {
  "kernelspec": {
   "display_name": "PythonData",
   "language": "python",
   "name": "pythondata"
  },
  "language_info": {
   "codemirror_mode": {
    "name": "ipython",
    "version": 3
   },
   "file_extension": ".py",
   "mimetype": "text/x-python",
   "name": "python",
   "nbconvert_exporter": "python",
   "pygments_lexer": "ipython3",
   "version": "3.7.13"
  }
 },
 "nbformat": 4,
 "nbformat_minor": 5
}
